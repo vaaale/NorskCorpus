{
 "cells": [
  {
   "cell_type": "code",
   "execution_count": 1,
   "metadata": {
    "collapsed": true,
    "pycharm": {
     "is_executing": false
    }
   },
   "outputs": [],
   "source": [
    "import azureml.core\n",
    "\n",
    "from azureml.core.authentication import InteractiveLoginAuthentication\n",
    "from azureml.core import Workspace, Environment, Datastore, Experiment\n",
    "from azureml.core.model import InferenceConfig, Model\n",
    "from azureml.core.webservice import AciWebservice, Webservice\n",
    "from azureml.core.compute import ComputeTarget, RemoteCompute, AmlCompute\n",
    "from azureml.core.runconfig import RunConfiguration\n",
    "\n",
    "from azureml.exceptions import WebserviceException\n",
    "from azureml.data.data_reference import DataReference\n",
    "\n",
    "from azureml.pipeline.steps import PythonScriptStep\n",
    "from azureml.pipeline.core import PipelineData, Pipeline\n",
    "import json\n",
    "import os\n"
   ]
  },
  {
   "cell_type": "code",
   "execution_count": 2,
   "outputs": [],
   "source": [
    "with open('config.json', 'r') as jsonfile:\n",
    "    ws_config = json.load(jsonfile)\n",
    "\n",
    "interactive_auth = InteractiveLoginAuthentication(tenant_id=ws_config['tenantId'])\n",
    "\n",
    "ws = Workspace(\n",
    "    subscription_id=ws_config['subscription_id'],\n",
    "    resource_group=ws_config['resource_group'],\n",
    "    workspace_name=ws_config['workspace_name'],\n",
    "    auth=interactive_auth,\n",
    ")"
   ],
   "metadata": {
    "collapsed": false,
    "pycharm": {
     "name": "#%%\n",
     "is_executing": false
    }
   }
  },
  {
   "cell_type": "code",
   "execution_count": 3,
   "outputs": [],
   "source": [
    "blob_datastore_name='shiftdatastore' # Name of the datastore to workspace\n",
    "container_name=os.getenv(\"BLOB_CONTAINER\", \"news20container\") # Name of Azure blob container\n",
    "account_name=os.getenv(\"BLOB_ACCOUNTNAME\", \"shiftreference\") # Storage account name\n",
    "account_key=os.getenv(\"AZURE_STORAGE_KEY\") # Storage account key\n",
    "\n",
    "try:\n",
    "    datastore = Datastore.get(ws, blob_datastore_name)\n",
    "except:\n",
    "    datastore = Datastore.register_azure_blob_container(workspace=ws, \n",
    "                                                             datastore_name=blob_datastore_name, \n",
    "                                                             container_name=container_name, \n",
    "                                                             account_name=account_name,\n",
    "                                                             account_key=account_key)\n"
   ],
   "metadata": {
    "collapsed": false,
    "pycharm": {
     "name": "#%%\n",
     "is_executing": false
    }
   }
  },
  {
   "cell_type": "code",
   "execution_count": 4,
   "outputs": [],
   "source": [
    "blob_input_data = DataReference(\n",
    "    datastore,\n",
    "    data_reference_name=\"rawdata\",\n",
    "    path_on_datastore=\"rawdata\",\n",
    ").as_download()\n",
    "\n",
    "# Preprocessed files saved here\n",
    "corpus_output_data = PipelineData(\n",
    "    \"corpus\",\n",
    "    datastore=datastore,\n",
    "    output_path_on_compute=\"corpus\",\n",
    "    output_mode=\"upload\"\n",
    ")"
   ],
   "metadata": {
    "collapsed": false,
    "pycharm": {
     "name": "#%%\n",
     "is_executing": false
    }
   }
  },
  {
   "cell_type": "code",
   "execution_count": 14,
   "outputs": [
    {
     "name": "stdout",
     "text": [
      "Creating a new compute target...\n",
      "Creating\n",
      "Succeeded\n",
      "AmlCompute wait for completion finished\n",
      "\n",
      "Minimum number of nodes requested have been provisioned\n",
      "{'currentNodeCount': 0, 'targetNodeCount': 0, 'nodeStateCounts': {'preparingNodeCount': 0, 'runningNodeCount': 0, 'idleNodeCount': 0, 'unusableNodeCount': 0, 'leavingNodeCount': 0, 'preemptedNodeCount': 0}, 'allocationState': 'Steady', 'allocationStateTransitionTime': '2020-03-06T14:44:13.219000+00:00', 'errors': None, 'creationTime': '2020-03-06T14:44:11.557463+00:00', 'modifiedTime': '2020-03-06T14:44:27.273705+00:00', 'provisioningState': 'Succeeded', 'provisioningStateTransitionTime': None, 'scaleSettings': {'minNodeCount': 0, 'maxNodeCount': 4, 'nodeIdleTimeBeforeScaleDown': 'PT120S'}, 'vmPriority': 'Dedicated', 'vmSize': 'STANDARD_D13_V2'}\n"
     ],
     "output_type": "stream"
    }
   ],
   "source": [
    "compute_name = \"corpus-compute\"\n",
    "# vm_size = \"STANDARD_D11_V2\"\n",
    "vm_size = \"STANDARD_D13_V2\"\n",
    "if compute_name in ws.compute_targets:\n",
    "    compute_target = ws.compute_targets[compute_name]\n",
    "    if compute_target and type(compute_target) is AmlCompute:\n",
    "        print('Found compute target: ' + compute_name)\n",
    "else:\n",
    "    print('Creating a new compute target...')\n",
    "    provisioning_config = AmlCompute.provisioning_configuration(vm_size=vm_size,  # STANDARD_NC6 is GPU-enabled\n",
    "                                                                min_nodes=0,\n",
    "                                                                max_nodes=4)\n",
    "    # create the compute target\n",
    "    compute_target = ComputeTarget.create(\n",
    "        ws, compute_name, provisioning_config)\n",
    "\n",
    "    # Can poll for a minimum number of nodes and for a specific timeout.\n",
    "    # If no min node count is provided it will use the scale settings for the cluster\n",
    "    compute_target.wait_for_completion(\n",
    "        show_output=True, min_node_count=None, timeout_in_minutes=20)\n",
    "\n",
    "    # For a more detailed view of current cluster status, use the 'status' property\n",
    "    print(compute_target.status.serialize())"
   ],
   "metadata": {
    "collapsed": false,
    "pycharm": {
     "name": "#%%\n",
     "is_executing": false
    }
   }
  },
  {
   "cell_type": "code",
   "execution_count": 15,
   "outputs": [],
   "source": [
    "env = Environment.from_pip_requirements(\"sbsdeployment\", \"./requirements.txt\")\n",
    "runconfig = RunConfiguration()\n",
    "runconfig.environment.docker.enabled = True\n",
    "\n",
    "runconfig.environment = env\n"
   ],
   "metadata": {
    "collapsed": false,
    "pycharm": {
     "name": "#%%\n",
     "is_executing": false
    }
   }
  },
  {
   "cell_type": "code",
   "execution_count": 16,
   "outputs": [],
   "source": [
    "\n",
    "process_arguments = [\"--input\", blob_input_data, \"--output\", corpus_output_data]\n",
    "process_step = PythonScriptStep(\n",
    "    script_name=\"build_corpus.py\",\n",
    "    arguments=process_arguments,\n",
    "    inputs=[blob_input_data],\n",
    "    outputs=[corpus_output_data],\n",
    "    compute_target=compute_target,\n",
    "    source_directory=os.getcwd(),\n",
    "    runconfig=runconfig,\n",
    "    allow_reuse=True,\n",
    ")"
   ],
   "metadata": {
    "collapsed": false,
    "pycharm": {
     "name": "#%%\n",
     "is_executing": false
    }
   }
  },
  {
   "cell_type": "code",
   "execution_count": null,
   "outputs": [
    {
     "name": "stdout",
     "text": [
      "Created step build_corpus.py [ee1b90ae][c02ce402-1533-461c-a258-036927c0eaff], (This step will run and generate new outputs)\n",
      "Using data reference rawdata for StepId [5d0836ca][395508bc-299b-4d65-a244-73b2834045d8], (Consumers of this data are eligible to reuse prior runs.)\n",
      "Submitted PipelineRun 1098de74-cf8e-4a1d-9a50-c71116917918\n",
      "Link to Azure Machine Learning studio: https://ml.azure.com/experiments/build_corpus/runs/1098de74-cf8e-4a1d-9a50-c71116917918?wsid=/subscriptions/9017d57d-c4df-480d-b92d-7aea2266b0f0/resourcegroups/BAA_Shift/workspaces/News20Workspace\n",
      "PipelineRunId: 1098de74-cf8e-4a1d-9a50-c71116917918\n",
      "Link to Portal: https://ml.azure.com/experiments/build_corpus/runs/1098de74-cf8e-4a1d-9a50-c71116917918?wsid=/subscriptions/9017d57d-c4df-480d-b92d-7aea2266b0f0/resourcegroups/BAA_Shift/workspaces/News20Workspace\n",
      "PipelineRun Status: Running\n",
      "\n",
      "\n",
      "StepRunId: cb6a24ec-0658-4389-b3e1-b44aab7f83b3\n",
      "Link to Portal: https://ml.azure.com/experiments/build_corpus/runs/cb6a24ec-0658-4389-b3e1-b44aab7f83b3?wsid=/subscriptions/9017d57d-c4df-480d-b92d-7aea2266b0f0/resourcegroups/BAA_Shift/workspaces/News20Workspace\n",
      "StepRun( build_corpus.py ) Status: NotStarted\n",
      "StepRun( build_corpus.py ) Status: Running\n",
      "\n",
      "Streaming azureml-logs/55_azureml-execution-tvmps_a98918f1ceb5557f4cee7d233678a8eb07057b3e808be670c95da9a672e358e4_d.txt\n",
      "========================================================================================================================\n",
      "2020-03-06T14:50:09Z Starting output-watcher...\n",
      "2020-03-06T14:50:09Z IsDedicatedCompute == True, won't poll for Low Pri Preemption\n",
      "Login Succeeded\n",
      "Using default tag: latest\n",
      "latest: Pulling from azureml/azureml_7cf03527b0f7179b7912b9581be3744d\n",
      "a1298f4ce990: Pulling fs layer\n",
      "04a3282d9c4b: Pulling fs layer\n",
      "9b0d3db6dc03: Pulling fs layer\n",
      "8269c605f3f1: Pulling fs layer\n",
      "6504d449e70c: Pulling fs layer\n",
      "4e38f320d0d4: Pulling fs layer\n",
      "b0a763e8ee03: Pulling fs layer\n",
      "11917a028ca4: Pulling fs layer\n",
      "a6c378d11cbf: Pulling fs layer\n",
      "6cc007ad9140: Pulling fs layer\n",
      "6c1698a608f3: Pulling fs layer\n",
      "9792facbbfa1: Pulling fs layer\n",
      "cbff024e0762: Pulling fs layer\n",
      "774338701c0d: Pulling fs layer\n",
      "11e35c06fd3f: Pulling fs layer\n",
      "40deac62bf95: Pulling fs layer\n",
      "f494c66486e3: Pulling fs layer\n",
      "6504d449e70c: Waiting\n",
      "b0a763e8ee03: Waiting\n",
      "4e38f320d0d4: Waiting\n",
      "6cc007ad9140: Waiting\n",
      "11917a028ca4: Waiting\n",
      "a6c378d11cbf: Waiting\n",
      "cbff024e0762: Waiting\n",
      "f494c66486e3: Waiting\n",
      "40deac62bf95: Waiting\n",
      "8269c605f3f1: Waiting\n",
      "9792facbbfa1: Waiting\n",
      "6c1698a608f3: Waiting\n",
      "9b0d3db6dc03: Verifying Checksum\n",
      "9b0d3db6dc03: Download complete\n",
      "04a3282d9c4b: Verifying Checksum\n",
      "04a3282d9c4b: Download complete\n",
      "8269c605f3f1: Verifying Checksum\n",
      "8269c605f3f1: Download complete\n",
      "a1298f4ce990: Verifying Checksum\n",
      "a1298f4ce990: Download complete\n",
      "4e38f320d0d4: Verifying Checksum\n",
      "4e38f320d0d4: Download complete\n",
      "b0a763e8ee03: Verifying Checksum\n",
      "b0a763e8ee03: Download complete\n",
      "6504d449e70c: Verifying Checksum\n",
      "6504d449e70c: Download complete\n",
      "6cc007ad9140: Verifying Checksum\n",
      "6cc007ad9140: Download complete\n",
      "6c1698a608f3: Download complete\n",
      "11917a028ca4: Verifying Checksum\n",
      "11917a028ca4: Download complete\n",
      "a6c378d11cbf: Verifying Checksum\n",
      "a6c378d11cbf: Download complete\n",
      "9792facbbfa1: Verifying Checksum\n",
      "9792facbbfa1: Download complete\n",
      "cbff024e0762: Verifying Checksum\n",
      "cbff024e0762: Download complete\n",
      "774338701c0d: Verifying Checksum\n",
      "774338701c0d: Download complete\n",
      "f494c66486e3: Verifying Checksum\n",
      "f494c66486e3: Download complete\n",
      "11e35c06fd3f: Download complete\n",
      "a1298f4ce990: Pull complete\n",
      "40deac62bf95: Verifying Checksum\n",
      "40deac62bf95: Download complete\n",
      "04a3282d9c4b: Pull complete\n",
      "9b0d3db6dc03: Pull complete\n",
      "8269c605f3f1: Pull complete\n",
      "6504d449e70c: Pull complete\n",
      "4e38f320d0d4: Pull complete\n",
      "b0a763e8ee03: Pull complete\n",
      "11917a028ca4: Pull complete\n",
      "a6c378d11cbf: Pull complete\n",
      "6cc007ad9140: Pull complete\n",
      "6c1698a608f3: Pull complete\n",
      "9792facbbfa1: Pull complete\n",
      "cbff024e0762: Pull complete\n",
      "774338701c0d: Pull complete\n",
      "11e35c06fd3f: Pull complete\n",
      "40deac62bf95: Pull complete\n",
      "f494c66486e3: Pull complete\n",
      "Digest: sha256:fa1d52056d611b9f465bc3edeacbae82b9c14071380280f3dfe0ab9c3572d2e3\n",
      "Status: Downloaded newer image for news20worksp056138b6.azurecr.io/azureml/azureml_7cf03527b0f7179b7912b9581be3744d:latest\n"
     ],
     "output_type": "stream"
    }
   ],
   "source": [
    "predictions = Pipeline(ws, steps=[process_step])\n",
    "predictions_run = Experiment(ws, \"build_corpus\").submit(predictions)\n",
    "predictions_run.wait_for_completion()"
   ],
   "metadata": {
    "collapsed": false,
    "pycharm": {
     "name": "#%%\n",
     "is_executing": true
    }
   }
  },
  {
   "cell_type": "code",
   "execution_count": null,
   "outputs": [],
   "source": [
    "\n",
    "print('done')"
   ],
   "metadata": {
    "collapsed": false,
    "pycharm": {
     "name": "#%%\n",
     "is_executing": false
    }
   }
  },
  {
   "cell_type": "code",
   "execution_count": null,
   "outputs": [],
   "source": [],
   "metadata": {
    "collapsed": false,
    "pycharm": {
     "name": "#%%\n"
    }
   }
  }
 ],
 "metadata": {
  "kernelspec": {
   "name": "python3",
   "language": "python",
   "display_name": "Python 3"
  },
  "language_info": {
   "codemirror_mode": {
    "name": "ipython",
    "version": 2
   },
   "file_extension": ".py",
   "mimetype": "text/x-python",
   "name": "python",
   "nbconvert_exporter": "python",
   "pygments_lexer": "ipython2",
   "version": "2.7.6"
  },
  "pycharm": {
   "stem_cell": {
    "cell_type": "raw",
    "source": [],
    "metadata": {
     "collapsed": false
    }
   }
  }
 },
 "nbformat": 4,
 "nbformat_minor": 0
}